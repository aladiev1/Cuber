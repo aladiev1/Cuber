{
 "cells": [
  {
   "cell_type": "markdown",
   "metadata": {},
   "source": [
    "## CMSC461-01: Database Management Systems, Fall 2018\n",
    "### Project 1"
   ]
  },
  {
   "cell_type": "code",
   "execution_count": 1,
   "metadata": {},
   "outputs": [],
   "source": [
    "# import some packages and define two helper functions python functions to \n",
    "# connect to DB, and execute a SQL statement and show its results\n",
    "\n",
    "import mysql.connector\n",
    "import pandas as pd\n",
    "import getpass\n",
    "import datetime\n",
    "\n",
    "def getConnectionToDB(db_user, db_password, db_name='cuber'):\n",
    "    config = { 'user': db_user, 'password': db_password, \n",
    "              'host': 'localhost', 'port': 3306, 'database': db_name, \n",
    "              'raise_on_warnings': True                    \n",
    "    }\n",
    "    db_connection = mysql.connector.connect(**config)\n",
    "    return db_connection\n",
    "\n",
    "def executeQueryAndShowResults(query, notuples=0):\n",
    "    # execute a SQL query and print the first notuples rows in the result\n",
    "    # notuples is 5 by default; use a non-positive integer for all tuples\n",
    "    # in the result\n",
    "    df = pd.read_sql(query, con=db_connection)\n",
    "    if notuples <= 0:\n",
    "        notuples = df.shape[0]\n",
    "    print(df.head(notuples))"
   ]
  },
  {
   "cell_type": "code",
   "execution_count": 2,
   "metadata": {},
   "outputs": [
    {
     "name": "stdout",
     "output_type": "stream",
     "text": [
      "Enter username········\n",
      "Enter password········\n"
     ]
    }
   ],
   "source": [
    "db_user = getpass.getpass('Enter username')\n",
    "db_password = getpass.getpass('Enter password')\n",
    "db_connection = getConnectionToDB(db_user, db_password)"
   ]
  },
  {
   "cell_type": "markdown",
   "metadata": {},
   "source": [
    "#### 1. List the names of all the drivers."
   ]
  },
  {
   "cell_type": "code",
   "execution_count": 3,
   "metadata": {},
   "outputs": [
    {
     "name": "stdout",
     "output_type": "stream",
     "text": [
      "   first_name last_name\n",
      "0       Sandy     Smith\n",
      "1       Clare      Boyd\n",
      "2        Emma       Day\n",
      "3      Serina      Horn\n",
      "4      Daniel    Holmes\n",
      "5         Lee    Melend\n",
      "6        Macy    Forbes\n",
      "7        Bert    Simson\n",
      "8        Eric     Smith\n",
      "9        Dana       Tay\n",
      "10       Carl     Sweet\n",
      "11     Justin   Garrett\n"
     ]
    }
   ],
   "source": [
    "query = '''\n",
    "SELECT first_name, last_name \n",
    "FROM driver\n",
    "'''\n",
    "executeQueryAndShowResults(query)"
   ]
  },
  {
   "cell_type": "markdown",
   "metadata": {},
   "source": [
    "#### 2. Find the total customer-times-miles during a given date."
   ]
  },
  {
   "cell_type": "code",
   "execution_count": 4,
   "metadata": {},
   "outputs": [
    {
     "name": "stdout",
     "output_type": "stream",
     "text": [
      "   date_miles_total\n",
      "0              14.0\n"
     ]
    }
   ],
   "source": [
    "# change YYYY-MM-DD to test a different date\n",
    "query = '''\n",
    "SELECT SUM(DISTINCT T.total_dist) as date_miles_total\n",
    "FROM trip as T, trip_traj as S\n",
    "WHERE (S.timestamp BETWEEN '2018-12-08' AND '2018-12-09') AND (T.trip_id = S.trip_id)\n",
    "'''\n",
    "executeQueryAndShowResults(query)"
   ]
  },
  {
   "cell_type": "markdown",
   "metadata": {},
   "source": [
    "#### 3. Find the most “active” (in terms of number of trips) driver during a given month. "
   ]
  },
  {
   "cell_type": "code",
   "execution_count": 5,
   "metadata": {},
   "outputs": [
    {
     "name": "stdout",
     "output_type": "stream",
     "text": [
      "  driver_id  december_trip_count\n",
      "0       d10                    2\n"
     ]
    }
   ],
   "source": [
    "# change YYYY-MM-DD to test a different month\n",
    "query = '''\n",
    "SELECT T.driver_id, COUNT(DISTINCT T.trip_id) as december_trip_count\n",
    "FROM trip as T, trip_traj as S\n",
    "WHERE (S.timestamp >= '2018-12-00') AND (T.trip_id = S.trip_id) \n",
    "GROUP BY driver_id\n",
    "ORDER by december_trip_count DESC\n",
    "LIMIT 1\n",
    "'''\n",
    "executeQueryAndShowResults(query)"
   ]
  },
  {
   "cell_type": "markdown",
   "metadata": {},
   "source": [
    "#### 4. Find the “most” valuable customer (in terms of dollars charged)."
   ]
  },
  {
   "cell_type": "code",
   "execution_count": 6,
   "metadata": {},
   "outputs": [
    {
     "name": "stdout",
     "output_type": "stream",
     "text": [
      "  cust_id  amount_charged\n",
      "0      c7          -130.0\n"
     ]
    }
   ],
   "source": [
    "query = '''\n",
    "SELECT T.cust_id, SUM(DISTINCT T.amount) as amount_charged\n",
    "FROM payment as T\n",
    "WHERE T.amount < 0\n",
    "GROUP BY cust_id\n",
    "ORDER by amount_charged ASC\n",
    "LIMIT 1\n",
    "'''\n",
    "executeQueryAndShowResults(query)"
   ]
  },
  {
   "cell_type": "markdown",
   "metadata": {},
   "source": [
    "#### 5. Find the balance owed by a given customer."
   ]
  },
  {
   "cell_type": "code",
   "execution_count": 7,
   "metadata": {},
   "outputs": [
    {
     "name": "stdout",
     "output_type": "stream",
     "text": [
      "  cust_id  balance_owed\n",
      "0      c3         -15.0\n"
     ]
    }
   ],
   "source": [
    "query = '''\n",
    "SELECT T.cust_id, SUM(DISTINCT T.amount) as balance_owed\n",
    "FROM payment as T\n",
    "WHERE (T.amount < 0) AND cust_id = 'c3'\n",
    "'''\n",
    "executeQueryAndShowResults(query)"
   ]
  },
  {
   "cell_type": "markdown",
   "metadata": {},
   "source": [
    "#### 6. Find the vehicles that traveled more miles in a given month than the previous month."
   ]
  },
  {
   "cell_type": "code",
   "execution_count": 8,
   "metadata": {},
   "outputs": [
    {
     "name": "stdout",
     "output_type": "stream",
     "text": [
      "  driver_id  december_miles\n",
      "0       d10            65.0\n",
      "1        d6            13.0\n",
      "2        d3            10.0\n",
      "3        d7             1.0\n",
      "4        d1             1.0\n",
      "  driver_id  november_miles\n",
      "0        d6            55.0\n",
      "1        d5            50.0\n",
      "2        d2            20.0\n",
      "3       d11            10.0\n",
      "4        d1             2.0\n"
     ]
    }
   ],
   "source": [
    "# change YYYY-MM-DD to test a different month\n",
    "\n",
    "# DECEMBER:\n",
    "query = '''\n",
    "SELECT T.driver_id, SUM(DISTINCT T.total_dist) as december_miles\n",
    "FROM trip as T, trip_traj as S\n",
    "WHERE (S.timestamp >= '2018-12-00') AND (T.trip_id = S.trip_id) \n",
    "GROUP BY driver_id\n",
    "ORDER by december_miles DESC\n",
    "'''\n",
    "executeQueryAndShowResults(query)\n",
    "\n",
    "# NOVEMBER:\n",
    "query = '''\n",
    "SELECT T.driver_id, SUM(DISTINCT T.total_dist) as november_miles\n",
    "FROM trip as T, trip_traj as S\n",
    "WHERE (S.timestamp BETWEEN '2018-11-00' AND '2018-12-00') AND (T.trip_id = S.trip_id) \n",
    "GROUP BY driver_id\n",
    "ORDER by november_miles DESC\n",
    "'''\n",
    "executeQueryAndShowResults(query)"
   ]
  },
  {
   "cell_type": "markdown",
   "metadata": {},
   "source": [
    "#### 7. Find the most popular starting and ending stops in a given week."
   ]
  },
  {
   "cell_type": "code",
   "execution_count": 9,
   "metadata": {},
   "outputs": [
    {
     "name": "stdout",
     "output_type": "stream",
     "text": [
      "   latitude  longitude  COUNT(latitude)  COUNT(longitude)\n",
      "0  39.40431  -76.59951                4                 4\n",
      "   latitude  longitude  COUNT(latitude)  COUNT(longitude)\n",
      "0  38.98776   -76.9139                1                 1\n"
     ]
    }
   ],
   "source": [
    "# change YYYY-MM-DD to test a different week\n",
    "\n",
    "# STARTING STOP:\n",
    "query = '''\n",
    "SELECT latitude, longitude, COUNT(latitude), COUNT(longitude)\n",
    "FROM trip_traj \n",
    "WHERE (timestamp BETWEEN '2018-12-02' AND '2018-12-09')\n",
    "GROUP BY latitude, longitude\n",
    "ORDER by COUNT(latitude) DESC\n",
    "LIMIT 1\n",
    "'''\n",
    "executeQueryAndShowResults(query)\n",
    "\n",
    "# ENDING STOP:\n",
    "query = '''\n",
    "SELECT latitude, longitude, COUNT(latitude), COUNT(longitude)\n",
    "FROM trip_traj \n",
    "WHERE (timestamp BETWEEN '2018-12-02' AND '2018-12-09') AND (dist_from_last = 0)\n",
    "GROUP BY latitude, longitude\n",
    "ORDER by COUNT(latitude) DESC\n",
    "LIMIT 1\n",
    "'''\n",
    "executeQueryAndShowResults(query)"
   ]
  },
  {
   "cell_type": "code",
   "execution_count": null,
   "metadata": {},
   "outputs": [],
   "source": [
    "# close the connection to the DB server\n",
    "db_connection.close()\n",
    "print(datetime.datetime.now())\n",
    "!whoami\n",
    "!hostname"
   ]
  },
  {
   "cell_type": "code",
   "execution_count": null,
   "metadata": {},
   "outputs": [],
   "source": []
  }
 ],
 "metadata": {
  "kernelspec": {
   "display_name": "Python 3",
   "language": "python",
   "name": "python3"
  },
  "language_info": {
   "codemirror_mode": {
    "name": "ipython",
    "version": 3
   },
   "file_extension": ".py",
   "mimetype": "text/x-python",
   "name": "python",
   "nbconvert_exporter": "python",
   "pygments_lexer": "ipython3",
   "version": "3.6.5"
  }
 },
 "nbformat": 4,
 "nbformat_minor": 2
}
